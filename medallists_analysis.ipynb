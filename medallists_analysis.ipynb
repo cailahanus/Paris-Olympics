{
 "cells": [
  {
   "cell_type": "code",
   "execution_count": 1,
   "metadata": {},
   "outputs": [],
   "source": [
    "import numpy as np\n",
    "import pandas as pd\n",
    "import matplotlib.pyplot as plt\n"
   ]
  },
  {
   "cell_type": "code",
   "execution_count": 2,
   "metadata": {},
   "outputs": [
    {
     "data": {
      "text/html": [
       "<div>\n",
       "<style scoped>\n",
       "    .dataframe tbody tr th:only-of-type {\n",
       "        vertical-align: middle;\n",
       "    }\n",
       "\n",
       "    .dataframe tbody tr th {\n",
       "        vertical-align: top;\n",
       "    }\n",
       "\n",
       "    .dataframe thead th {\n",
       "        text-align: right;\n",
       "    }\n",
       "</style>\n",
       "<table border=\"1\" class=\"dataframe\">\n",
       "  <thead>\n",
       "    <tr style=\"text-align: right;\">\n",
       "      <th></th>\n",
       "      <th>medal_date</th>\n",
       "      <th>medal_type</th>\n",
       "      <th>medal_code</th>\n",
       "      <th>name</th>\n",
       "      <th>gender</th>\n",
       "      <th>country</th>\n",
       "      <th>country_code</th>\n",
       "      <th>nationality</th>\n",
       "      <th>team</th>\n",
       "      <th>team_gender</th>\n",
       "      <th>discipline</th>\n",
       "      <th>event</th>\n",
       "      <th>event_type</th>\n",
       "      <th>url_event</th>\n",
       "      <th>birth_date</th>\n",
       "      <th>code</th>\n",
       "    </tr>\n",
       "  </thead>\n",
       "  <tbody>\n",
       "    <tr>\n",
       "      <th>0</th>\n",
       "      <td>2024-07-27</td>\n",
       "      <td>Gold Medal</td>\n",
       "      <td>1</td>\n",
       "      <td>EVENEPOEL Remco</td>\n",
       "      <td>Male</td>\n",
       "      <td>Belgium</td>\n",
       "      <td>BEL</td>\n",
       "      <td>Belgium</td>\n",
       "      <td>NaN</td>\n",
       "      <td>NaN</td>\n",
       "      <td>Cycling Road</td>\n",
       "      <td>Men's Individual Time Trial</td>\n",
       "      <td>ATH</td>\n",
       "      <td>/en/paris-2024/results/cycling-road/men-s-indi...</td>\n",
       "      <td>2000-01-25</td>\n",
       "      <td>1903136</td>\n",
       "    </tr>\n",
       "    <tr>\n",
       "      <th>1</th>\n",
       "      <td>2024-07-27</td>\n",
       "      <td>Silver Medal</td>\n",
       "      <td>2</td>\n",
       "      <td>GANNA Filippo</td>\n",
       "      <td>Male</td>\n",
       "      <td>Italy</td>\n",
       "      <td>ITA</td>\n",
       "      <td>Italy</td>\n",
       "      <td>NaN</td>\n",
       "      <td>NaN</td>\n",
       "      <td>Cycling Road</td>\n",
       "      <td>Men's Individual Time Trial</td>\n",
       "      <td>ATH</td>\n",
       "      <td>/en/paris-2024/results/cycling-road/men-s-indi...</td>\n",
       "      <td>1996-07-25</td>\n",
       "      <td>1923520</td>\n",
       "    </tr>\n",
       "    <tr>\n",
       "      <th>2</th>\n",
       "      <td>2024-07-27</td>\n",
       "      <td>Bronze Medal</td>\n",
       "      <td>3</td>\n",
       "      <td>van AERT Wout</td>\n",
       "      <td>Male</td>\n",
       "      <td>Belgium</td>\n",
       "      <td>BEL</td>\n",
       "      <td>Belgium</td>\n",
       "      <td>NaN</td>\n",
       "      <td>NaN</td>\n",
       "      <td>Cycling Road</td>\n",
       "      <td>Men's Individual Time Trial</td>\n",
       "      <td>ATH</td>\n",
       "      <td>/en/paris-2024/results/cycling-road/men-s-indi...</td>\n",
       "      <td>1994-09-15</td>\n",
       "      <td>1903147</td>\n",
       "    </tr>\n",
       "    <tr>\n",
       "      <th>3</th>\n",
       "      <td>2024-07-27</td>\n",
       "      <td>Gold Medal</td>\n",
       "      <td>1</td>\n",
       "      <td>BROWN Grace</td>\n",
       "      <td>Female</td>\n",
       "      <td>Australia</td>\n",
       "      <td>AUS</td>\n",
       "      <td>Australia</td>\n",
       "      <td>NaN</td>\n",
       "      <td>NaN</td>\n",
       "      <td>Cycling Road</td>\n",
       "      <td>Women's Individual Time Trial</td>\n",
       "      <td>ATH</td>\n",
       "      <td>/en/paris-2024/results/cycling-road/women-s-in...</td>\n",
       "      <td>1992-07-07</td>\n",
       "      <td>1940173</td>\n",
       "    </tr>\n",
       "    <tr>\n",
       "      <th>4</th>\n",
       "      <td>2024-07-27</td>\n",
       "      <td>Silver Medal</td>\n",
       "      <td>2</td>\n",
       "      <td>HENDERSON Anna</td>\n",
       "      <td>Female</td>\n",
       "      <td>Great Britain</td>\n",
       "      <td>GBR</td>\n",
       "      <td>Great Britain</td>\n",
       "      <td>NaN</td>\n",
       "      <td>NaN</td>\n",
       "      <td>Cycling Road</td>\n",
       "      <td>Women's Individual Time Trial</td>\n",
       "      <td>ATH</td>\n",
       "      <td>/en/paris-2024/results/cycling-road/women-s-in...</td>\n",
       "      <td>1998-11-14</td>\n",
       "      <td>1912525</td>\n",
       "    </tr>\n",
       "  </tbody>\n",
       "</table>\n",
       "</div>"
      ],
      "text/plain": [
       "   medal_date    medal_type  medal_code             name  gender  \\\n",
       "0  2024-07-27    Gold Medal           1  EVENEPOEL Remco    Male   \n",
       "1  2024-07-27  Silver Medal           2    GANNA Filippo    Male   \n",
       "2  2024-07-27  Bronze Medal           3    van AERT Wout    Male   \n",
       "3  2024-07-27    Gold Medal           1      BROWN Grace  Female   \n",
       "4  2024-07-27  Silver Medal           2   HENDERSON Anna  Female   \n",
       "\n",
       "         country country_code    nationality team team_gender    discipline  \\\n",
       "0        Belgium          BEL        Belgium  NaN         NaN  Cycling Road   \n",
       "1          Italy          ITA          Italy  NaN         NaN  Cycling Road   \n",
       "2        Belgium          BEL        Belgium  NaN         NaN  Cycling Road   \n",
       "3      Australia          AUS      Australia  NaN         NaN  Cycling Road   \n",
       "4  Great Britain          GBR  Great Britain  NaN         NaN  Cycling Road   \n",
       "\n",
       "                           event event_type  \\\n",
       "0    Men's Individual Time Trial        ATH   \n",
       "1    Men's Individual Time Trial        ATH   \n",
       "2    Men's Individual Time Trial        ATH   \n",
       "3  Women's Individual Time Trial        ATH   \n",
       "4  Women's Individual Time Trial        ATH   \n",
       "\n",
       "                                           url_event  birth_date     code  \n",
       "0  /en/paris-2024/results/cycling-road/men-s-indi...  2000-01-25  1903136  \n",
       "1  /en/paris-2024/results/cycling-road/men-s-indi...  1996-07-25  1923520  \n",
       "2  /en/paris-2024/results/cycling-road/men-s-indi...  1994-09-15  1903147  \n",
       "3  /en/paris-2024/results/cycling-road/women-s-in...  1992-07-07  1940173  \n",
       "4  /en/paris-2024/results/cycling-road/women-s-in...  1998-11-14  1912525  "
      ]
     },
     "execution_count": 2,
     "metadata": {},
     "output_type": "execute_result"
    }
   ],
   "source": [
    "# Load the data\n",
    "df = pd.read_csv('Resources/medallists.csv')\n",
    "\n",
    "# Display\n",
    "df.head()"
   ]
  },
  {
   "cell_type": "code",
   "execution_count": 6,
   "metadata": {},
   "outputs": [
    {
     "name": "stdout",
     "output_type": "stream",
     "text": [
      "<class 'pandas.core.frame.DataFrame'>\n",
      "Index: 136 entries, 111 to 247\n",
      "Data columns (total 16 columns):\n",
      " #   Column        Non-Null Count  Dtype \n",
      "---  ------        --------------  ----- \n",
      " 0   medal_date    136 non-null    object\n",
      " 1   medal_type    136 non-null    object\n",
      " 2   medal_code    136 non-null    int64 \n",
      " 3   name          136 non-null    object\n",
      " 4   gender        136 non-null    object\n",
      " 5   country       136 non-null    object\n",
      " 6   country_code  136 non-null    object\n",
      " 7   nationality   136 non-null    object\n",
      " 8   team          136 non-null    object\n",
      " 9   team_gender   136 non-null    object\n",
      " 10  discipline    136 non-null    object\n",
      " 11  event         136 non-null    object\n",
      " 12  event_type    136 non-null    object\n",
      " 13  url_event     136 non-null    object\n",
      " 14  birth_date    136 non-null    object\n",
      " 15  code          136 non-null    int64 \n",
      "dtypes: int64(2), object(14)\n",
      "memory usage: 18.1+ KB\n"
     ]
    }
   ],
   "source": [
    "# Data Cleaning\n",
    "\n",
    "# # Assess the data\n",
    "df.info()\n",
    "\n",
    "# remove missing values\n",
    "df.dropna(inplace=True)\n",
    "\n",
    "# remove duplicates\n",
    "df.drop_duplicates(inplace=True)"
   ]
  },
  {
   "cell_type": "code",
   "execution_count": 4,
   "metadata": {},
   "outputs": [],
   "source": [
    "# Filter by medal\n",
    "gold_medals = df[df['medal_type'] == 'Gold Medal']\n",
    "silver_medals = df[df['medal_type'] == 'Silver Medal']\n",
    "bronze_medals = df[df['medal_type'] == 'Bronze Medal']\n",
    "\n"
   ]
  },
  {
   "cell_type": "code",
   "execution_count": 5,
   "metadata": {},
   "outputs": [
    {
     "data": {
      "text/plain": [
       "<Figure size 1200x800 with 0 Axes>"
      ]
     },
     "metadata": {},
     "output_type": "display_data"
    },
    {
     "data": {
      "image/png": "[encoded data removed]",
      "text/plain": [
       "<Figure size 640x480 with 1 Axes>"
      ]
     },
     "metadata": {},
     "output_type": "display_data"
    }
   ],
   "source": [
    "# Group by 'Country' and count the number of Gold medals\n",
    "gold_medal_counts = gold_medals.groupby('country')['medal_type'].count().sort_values(ascending=False)\n",
    "\n",
    "# Convert to Data Frame\n",
    "gold_medal_counts = pd.DataFrame(gold_medal_counts)\n",
    "\n",
    "# Plot the bar chart\n",
    "plt.figure(figsize=(12, 8))\n",
    "gold_medal_counts.plot(kind='bar', color='gold')\n",
    "plt.title('Number of Gold Medals by Country')\n",
    "plt.xlabel('Country')\n",
    "plt.ylabel('Number of Gold Medals')\n",
    "plt.xticks(rotation=90)\n",
    "plt.show()"
   ]
  },
  {
   "cell_type": "code",
   "execution_count": null,
   "metadata": {},
   "outputs": [],
   "source": []
  },
  {
   "cell_type": "markdown",
   "metadata": {},
   "source": []
  },
  {
   "cell_type": "markdown",
   "metadata": {},
   "source": []
  },
  {
   "cell_type": "markdown",
   "metadata": {},
   "source": []
  }
 ],
 "metadata": {
  "kernelspec": {
   "display_name": "dev",
   "language": "python",
   "name": "python3"
  },
  "language_info": {
   "codemirror_mode": {
    "name": "ipython",
    "version": 3
   },
   "file_extension": ".py",
   "mimetype": "text/x-python",
   "name": "python",
   "nbconvert_exporter": "python",
   "pygments_lexer": "ipython3",
   "version": "3.10.13"
  }
 },
 "nbformat": 4,
 "nbformat_minor": 2
}
